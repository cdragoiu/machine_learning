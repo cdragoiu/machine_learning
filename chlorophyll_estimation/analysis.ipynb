{
 "cells": [
  {
   "cell_type": "markdown",
   "id": "599bfdfd",
   "metadata": {},
   "source": [
    "# Chlorophyll Level Estimation Based On Remote Sensing Reflectance"
   ]
  },
  {
   "cell_type": "markdown",
   "id": "45dea008",
   "metadata": {},
   "source": [
    "The goal is to develop a prediction model that can estimate the chlorophyll (CHL) level based on satellite reflectance data. The remote sensing reflectance (RRS) spectrum at different wavelengths is used as input data."
   ]
  },
  {
   "cell_type": "code",
   "execution_count": null,
   "id": "31b59b0d",
   "metadata": {},
   "outputs": [],
   "source": []
  }
 ],
 "metadata": {
  "kernelspec": {
   "display_name": "Python 3",
   "language": "python",
   "name": "python3"
  },
  "language_info": {
   "codemirror_mode": {
    "name": "ipython",
    "version": 3
   },
   "file_extension": ".py",
   "mimetype": "text/x-python",
   "name": "python",
   "nbconvert_exporter": "python",
   "pygments_lexer": "ipython3",
   "version": "3.8.8"
  }
 },
 "nbformat": 4,
 "nbformat_minor": 5
}
